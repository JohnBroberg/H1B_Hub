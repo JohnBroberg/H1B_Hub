{
 "cells": [
  {
   "cell_type": "markdown",
   "id": "8e3a26ef",
   "metadata": {},
   "source": [
    "# H1B Hub data from USCIS"
   ]
  },
  {
   "cell_type": "code",
   "execution_count": 1,
   "id": "535da9eb",
   "metadata": {},
   "outputs": [],
   "source": [
    "# git pull https://github.com/JohnBroberg/H1B_Hub.git\n",
    "\n",
    "import pandas as pd\n"
   ]
  },
  {
   "cell_type": "markdown",
   "id": "b05d0e66",
   "metadata": {},
   "source": [
    "## Download .csv files\n",
    "\n",
    "_DtypeWarning: Columns (3) have mixed types._\n",
    "Resolved in __Clean df__ step."
   ]
  },
  {
   "cell_type": "code",
   "execution_count": null,
   "id": "bd8d9bf4",
   "metadata": {},
   "outputs": [
    {
     "name": "stderr",
     "output_type": "stream",
     "text": [
      "C:\\Users\\jbrob\\AppData\\Local\\Temp\\ipykernel_22464\\3123072866.py:7: DtypeWarning: Columns (3) have mixed types. Specify dtype option on import or set low_memory=False.\n",
      "  data_year = pd.read_csv(url_temp)\n"
     ]
    }
   ],
   "source": [
    "year_first = 2009\n",
    "year_last = 2022\n",
    "\n",
    "data_year_list = []\n",
    "for year_temp in range(year_first, year_last +1):\n",
    "    url_temp = f\"https://www.uscis.gov/sites/default/files/document/data/h1b_datahubexport-{year_temp}.csv\"\n",
    "    data_year = pd.read_csv(url_temp)\n",
    "    data_year = data_year.rename(columns={'Initial Approvals':'Initial Approval',\n",
    "                                         'Initial Denials':'Initial Denial',\n",
    "                                         'Continuing Approvals':'Continuing Approval',\n",
    "                                         'Continuing Denials':'Continuing Denial'})\n",
    "    data_year_list.append(data_year)\n",
    "    \n"
   ]
  },
  {
   "cell_type": "markdown",
   "id": "ef21a5a3",
   "metadata": {},
   "source": [
    "## Concat into single dataframe (df)"
   ]
  },
  {
   "cell_type": "code",
   "execution_count": null,
   "id": "2d4f5a9a",
   "metadata": {},
   "outputs": [],
   "source": [
    "df = pd.concat(data_year_list, ignore_index=True)\n",
    "df"
   ]
  },
  {
   "cell_type": "code",
   "execution_count": null,
   "id": "6fb2997f",
   "metadata": {},
   "outputs": [],
   "source": [
    "df.info()"
   ]
  },
  {
   "cell_type": "markdown",
   "id": "74ac92f6",
   "metadata": {},
   "source": [
    "## Clean df"
   ]
  },
  {
   "cell_type": "markdown",
   "id": "c1353c82",
   "metadata": {},
   "source": [
    "### Remove commas from numeric values"
   ]
  },
  {
   "cell_type": "code",
   "execution_count": null,
   "id": "08ef2cef",
   "metadata": {},
   "outputs": [],
   "source": [
    "cols = ['Initial Approval', 'Initial Denial', 'Continuing Approval', 'Continuing Denial']\n",
    "df[cols]=df[cols].replace(',','', regex=True)  "
   ]
  },
  {
   "cell_type": "markdown",
   "id": "3fde679d",
   "metadata": {},
   "source": [
    "### Convert data types"
   ]
  },
  {
   "cell_type": "code",
   "execution_count": null,
   "id": "9f643d28",
   "metadata": {},
   "outputs": [],
   "source": [
    "df=df.astype({'Fiscal Year':'int32',\n",
    "              'Initial Approval':'int32',\n",
    "              'Initial Denial':'int32',\n",
    "              'Continuing Approval':'int32',\n",
    "              'Continuing Denial':'int32',\n",
    "              'NAICS':'str'})\n",
    "#              'Employer':'str',\n",
    "#              'Tax ID':'str',\n",
    "#              'ZIP':'str'})  \n",
    "\n",
    "df['Tax ID'] = pd.to_numeric(df['Tax ID'], errors='coerce').fillna(0).astype(int).astype(str)\n",
    "\n",
    "df.info()"
   ]
  },
  {
   "cell_type": "code",
   "execution_count": null,
   "id": "042663d8",
   "metadata": {},
   "outputs": [],
   "source": [
    "df.head()"
   ]
  },
  {
   "cell_type": "code",
   "execution_count": null,
   "id": "1606a2cf",
   "metadata": {},
   "outputs": [],
   "source": [
    "df.describe()"
   ]
  },
  {
   "cell_type": "code",
   "execution_count": null,
   "id": "841704f0",
   "metadata": {},
   "outputs": [],
   "source": [
    "df"
   ]
  },
  {
   "cell_type": "code",
   "execution_count": null,
   "id": "e91e989d",
   "metadata": {},
   "outputs": [],
   "source": [
    "df.isna().sum()"
   ]
  },
  {
   "cell_type": "markdown",
   "id": "b2f32f9f",
   "metadata": {},
   "source": [
    "Electing not to clean State na's, because only 40 fixable State values, with max Approvals = 14"
   ]
  },
  {
   "cell_type": "code",
   "execution_count": null,
   "id": "9132d202",
   "metadata": {},
   "outputs": [],
   "source": [
    "#df[(pd.isna(df['State'])) & pd.notna(df['ZIP'])]#.info()  "
   ]
  },
  {
   "cell_type": "markdown",
   "id": "43e2cea4",
   "metadata": {},
   "source": [
    "## Replace df.Employer values to consolidate employers with multiple company names"
   ]
  },
  {
   "cell_type": "code",
   "execution_count": null,
   "id": "3732359f",
   "metadata": {},
   "outputs": [],
   "source": [
    "# Facebook changes company name to Meta\n",
    "# https://www.cnbc.com/2021/10/28/facebook-changes-company-name-to-meta.html\n",
    "\n",
    "dict_emp = {'FACEBOOK INC':'META PLATFORMS INC'\n",
    "                , 'AMAZON CORPORATE LLC':'AMAZON COM SERVICES LLC'\n",
    "                , 'AMAZON WEB SERVICES INC':'AMAZON COM SERVICES LLC'\n",
    "                , 'AMAZON.COM SERVICES LLC':'AMAZON COM SERVICES LLC'\n",
    "                , 'AMAZON.COM SERVICES INC':'AMAZON COM SERVICES LLC'\n",
    "                , 'AMAZON FULFILLMENT SERVICES INC':'AMAZON COM SERVICES LLC'\n",
    "                , 'AMAZON DEVELOPMENT CENTER US INC':'AMAZON COM SERVICES LLC'\n",
    "                , 'AMAZON DATA SERVICES INC':'AMAZON COM SERVICES LLC'\n",
    "                    , 'GOOGLE INC':'GOOGLE LLC'\n",
    "           }\n",
    "\n",
    "df.Employer = df.Employer.replace(dict_emp)  "
   ]
  },
  {
   "cell_type": "code",
   "execution_count": null,
   "id": "0423f858",
   "metadata": {},
   "outputs": [],
   "source": [
    "df"
   ]
  },
  {
   "cell_type": "markdown",
   "id": "dfd888b2",
   "metadata": {},
   "source": [
    "## Import NAICS table\n",
    "\n",
    "\"NAICS code 99 means the industry is unknown. \n",
    "Any petition that had a blank code was assigned as 99 as well.\" (ref. README.md)"
   ]
  },
  {
   "cell_type": "code",
   "execution_count": null,
   "id": "cdea886e",
   "metadata": {},
   "outputs": [],
   "source": [
    "\n",
    "#NAICS codes: https://www.census.gov/naics/?58967?yearbck=2022\n",
    "\n",
    "url = \"https://www.census.gov/programs-surveys/economic-census/guidance/understanding-naics.html\"\n",
    "\n",
    "df_naics = pd.read_html(url, header=0)[1]\n",
    "\n",
    "\n",
    "#df_naics = df_naics.append({'Sector':'99','Description':'unknown'}, ignore_index=True)\n",
    "\n",
    "df_temp = pd.DataFrame(data={'Sector':['99'],'Description':['unknown']})\n",
    "\n",
    "df_naics = pd.concat([df_naics, df_temp])\n",
    "\n",
    "df_naics"
   ]
  },
  {
   "cell_type": "code",
   "execution_count": null,
   "id": "90643a92",
   "metadata": {},
   "outputs": [],
   "source": [
    "df_naics.info()"
   ]
  },
  {
   "cell_type": "code",
   "execution_count": null,
   "id": "1d7e4164",
   "metadata": {},
   "outputs": [],
   "source": [
    "df.NAICS.sort_values().unique()"
   ]
  },
  {
   "cell_type": "markdown",
   "id": "df5ea705",
   "metadata": {},
   "source": [
    "## Continuing Approvals by NAICS code"
   ]
  },
  {
   "cell_type": "code",
   "execution_count": null,
   "id": "4e298d4d",
   "metadata": {},
   "outputs": [],
   "source": [
    "df[['NAICS','Continuing Approval']].groupby('NAICS').sum()\\\n",
    ".sort_values(by='NAICS', ascending=True)\n"
   ]
  },
  {
   "cell_type": "markdown",
   "id": "a544992c",
   "metadata": {},
   "source": [
    "## Replace df.NAICS values to match NAICS table"
   ]
  },
  {
   "cell_type": "code",
   "execution_count": null,
   "id": "84c2fb40",
   "metadata": {},
   "outputs": [],
   "source": [
    "dict_naics = {'31':'31-33', '32':'31-33', '33':'31-33'\n",
    "                , '44':'44-45', '45':'44-45'\n",
    "                , '48':'48-49', '49':'48-49'}\n",
    "\n",
    "df.NAICS=df.NAICS.replace(dict_naics)  "
   ]
  },
  {
   "cell_type": "code",
   "execution_count": null,
   "id": "177a77fe",
   "metadata": {},
   "outputs": [],
   "source": [
    "df.NAICS.sort_values().unique()"
   ]
  },
  {
   "cell_type": "markdown",
   "id": "e987bf6c",
   "metadata": {},
   "source": [
    "## Continuing Approvals by NAICS code"
   ]
  },
  {
   "cell_type": "code",
   "execution_count": null,
   "id": "add7c09b",
   "metadata": {},
   "outputs": [],
   "source": [
    "df[['NAICS','Continuing Approval']].groupby('NAICS').sum()\\\n",
    ".sort_values(by='NAICS', ascending=True)\n"
   ]
  },
  {
   "cell_type": "markdown",
   "id": "04148f7a",
   "metadata": {},
   "source": [
    "## MERGE NAICS Description to df"
   ]
  },
  {
   "cell_type": "code",
   "execution_count": null,
   "id": "41d35488",
   "metadata": {},
   "outputs": [],
   "source": [
    "df = pd.merge(df, df_naics, how='left', left_on='NAICS', right_on='Sector', suffixes=(False, False))\n",
    "df"
   ]
  },
  {
   "cell_type": "code",
   "execution_count": null,
   "id": "1f203134",
   "metadata": {},
   "outputs": [],
   "source": [
    "df.info()"
   ]
  },
  {
   "cell_type": "code",
   "execution_count": null,
   "id": "bdf0e4dc",
   "metadata": {},
   "outputs": [],
   "source": [
    "df.isna().sum()"
   ]
  },
  {
   "cell_type": "markdown",
   "id": "c1e17a62",
   "metadata": {},
   "source": [
    "## Melt four Decision measures into single Petition measure column with Descision dimension column  \n",
    "_Commented out because resulting compressed CSV is too large for Github's 50MB file size limit_"
   ]
  },
  {
   "cell_type": "code",
   "execution_count": null,
   "id": "ecd7cf0f",
   "metadata": {},
   "outputs": [],
   "source": [
    "#df = pd.melt(df, id_vars=['Fiscal Year', 'Employer', 'NAICS', 'Tax ID', 'State', 'City', 'ZIP', 'Sector', 'Description'],\n",
    "#       value_vars=['Initial Approval', 'Initial Denial', 'Continuing Approval', 'Continuing Denial', ],\n",
    "#       var_name='Decision', value_name='Petitions')"
   ]
  },
  {
   "cell_type": "code",
   "execution_count": null,
   "id": "046a0b82",
   "metadata": {},
   "outputs": [],
   "source": [
    "df"
   ]
  },
  {
   "cell_type": "markdown",
   "id": "c3ff1ab3",
   "metadata": {},
   "source": [
    "## Export df to compressed .csv"
   ]
  },
  {
   "cell_type": "code",
   "execution_count": null,
   "id": "8c72ca34",
   "metadata": {},
   "outputs": [],
   "source": [
    "compression_opts = dict(method='zip', archive_name='h1b_hub.csv')  \n",
    "\n",
    "df.to_csv('h1b_hub_data.zip', index=False, compression=compression_opts)  "
   ]
  }
 ],
 "metadata": {
  "kernelspec": {
   "display_name": "Python 3 (ipykernel)",
   "language": "python",
   "name": "python3"
  },
  "language_info": {
   "codemirror_mode": {
    "name": "ipython",
    "version": 3
   },
   "file_extension": ".py",
   "mimetype": "text/x-python",
   "name": "python",
   "nbconvert_exporter": "python",
   "pygments_lexer": "ipython3",
   "version": "3.9.15"
  }
 },
 "nbformat": 4,
 "nbformat_minor": 5
}
