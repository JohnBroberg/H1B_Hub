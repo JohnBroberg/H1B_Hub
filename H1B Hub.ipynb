{
 "cells": [
  {
   "cell_type": "code",
   "execution_count": 1,
   "id": "535da9eb",
   "metadata": {},
   "outputs": [],
   "source": [
    "# H1B Hub data from USCIS\n",
    "\n",
    "#NAICS codes: https://www.census.gov/naics/?58967?yearbck=2022\n",
    "#left of string: https://datatofish.com/left-right-mid-pandas/\n",
    "\n",
    "\n",
    "import pandas as pd\n"
   ]
  },
  {
   "cell_type": "code",
   "execution_count": null,
   "id": "bd8d9bf4",
   "metadata": {},
   "outputs": [
    {
     "name": "stderr",
     "output_type": "stream",
     "text": [
      "C:\\Users\\jbrob\\AppData\\Local\\Temp\\ipykernel_20364\\3183627088.py:10: DtypeWarning: Columns (3) have mixed types. Specify dtype option on import or set low_memory=False.\n",
      "  data_year = pd.read_csv(url_temp)\n"
     ]
    }
   ],
   "source": [
    "#download .csv files\n",
    "#concat into single dataframe (df)\n",
    "\n",
    "year_first = 2009\n",
    "year_last = 2022\n",
    "\n",
    "data_year_list = []\n",
    "for year_temp in range(year_first, year_last +1):\n",
    "    url_temp = f\"https://www.uscis.gov/sites/default/files/document/data/h1b_datahubexport-{year_temp}.csv\"\n",
    "    data_year = pd.read_csv(url_temp)\n",
    "    data_year = data_year.rename(columns={'Initial Approvals':'Initial Approval',\n",
    "                                         'Initial Denials':'Initial Denial',\n",
    "                                         'Continuing Approvals':'Continuing Approval',\n",
    "                                         'Continuing Denials':'Continuing Denial'})\n",
    "    data_year_list.append(data_year)\n",
    "    \n",
    "df = pd.concat(data_year_list, ignore_index=True)\n",
    "df"
   ]
  },
  {
   "cell_type": "code",
   "execution_count": null,
   "id": "6fb2997f",
   "metadata": {},
   "outputs": [],
   "source": [
    "df.info()"
   ]
  },
  {
   "cell_type": "code",
   "execution_count": null,
   "id": "9f643d28",
   "metadata": {},
   "outputs": [],
   "source": [
    "#Clean df\n",
    "\n",
    "#remove commas from numeric values\n",
    "cols = ['Initial Approval', 'Initial Denial', 'Continuing Approval', 'Continuing Denial']\n",
    "df[cols]=df[cols].replace(',','', regex=True)  \n",
    "\n",
    "#convert data types\n",
    "df=df.astype({'Fiscal Year':'int32',\n",
    "              'Initial Approval':'int32',\n",
    "              'Initial Denial':'int32',\n",
    "              'Continuing Approval':'int32',\n",
    "              'Continuing Denial':'int32',\n",
    "              'NAICS':'str'})\n",
    "#              'Employer':'str',\n",
    "#              'Tax ID':'str',\n",
    "#              'ZIP':'str'})  \n",
    "\n",
    "df['Tax ID'] = pd.to_numeric(df['Tax ID'], errors='coerce').fillna(0).astype(int).astype(str)\n",
    "\n",
    "df.info()\n"
   ]
  },
  {
   "cell_type": "code",
   "execution_count": null,
   "id": "042663d8",
   "metadata": {},
   "outputs": [],
   "source": [
    "df.head()"
   ]
  },
  {
   "cell_type": "code",
   "execution_count": null,
   "id": "1606a2cf",
   "metadata": {},
   "outputs": [],
   "source": [
    "df.describe()"
   ]
  },
  {
   "cell_type": "code",
   "execution_count": null,
   "id": "841704f0",
   "metadata": {},
   "outputs": [],
   "source": [
    "df"
   ]
  },
  {
   "cell_type": "code",
   "execution_count": null,
   "id": "e91e989d",
   "metadata": {},
   "outputs": [],
   "source": [
    "df.isna().sum()"
   ]
  },
  {
   "cell_type": "code",
   "execution_count": null,
   "id": "9132d202",
   "metadata": {},
   "outputs": [],
   "source": [
    "#electing not to clean State na's, because only 40 fixable State values, with max Approvals = 14\n",
    "\n",
    "df[(pd.isna(df['State'])) & pd.notna(df['ZIP'])]#.info()  "
   ]
  },
  {
   "cell_type": "code",
   "execution_count": null,
   "id": "cdea886e",
   "metadata": {},
   "outputs": [],
   "source": [
    "#Import NAICS table\n",
    "\n",
    "url = \"https://www.census.gov/programs-surveys/economic-census/guidance/understanding-naics.html\"\n",
    "\n",
    "df_naics = pd.read_html(url, header=0)[1]\n",
    "\n",
    "#\"NAICS code 99 means the industry is unknown. \n",
    "# Any petition that had a blank code was assigned as 99 as well.\" (ref. README.md)\n",
    "df_naics = df_naics.append({'Sector':'99','Description':'unknown'}, ignore_index=True)\n",
    "\n",
    "df_naics"
   ]
  },
  {
   "cell_type": "code",
   "execution_count": null,
   "id": "90643a92",
   "metadata": {},
   "outputs": [],
   "source": [
    "df_naics.info()"
   ]
  },
  {
   "cell_type": "code",
   "execution_count": null,
   "id": "1d7e4164",
   "metadata": {},
   "outputs": [],
   "source": [
    "df.NAICS.sort_values().unique()"
   ]
  },
  {
   "cell_type": "code",
   "execution_count": null,
   "id": "4e298d4d",
   "metadata": {},
   "outputs": [],
   "source": [
    "#Continuing Approvals by NAICS code\n",
    "\n",
    "df[['NAICS','Continuing Approval']].groupby('NAICS').sum()\\\n",
    ".sort_values(by='NAICS', ascending=True)\n"
   ]
  },
  {
   "cell_type": "code",
   "execution_count": null,
   "id": "84c2fb40",
   "metadata": {},
   "outputs": [],
   "source": [
    "#Replace df.NAICS values to match NAICS table\n",
    "\n",
    "dict_naics = {'31':'31-33', '32':'31-33', '33':'31-33'\n",
    "                , '44':'44-45', '45':'44-45'\n",
    "                , '48':'48-49', '49':'48-49'}\n",
    "\n",
    "df.NAICS=df.NAICS.replace(dict_naics)  "
   ]
  },
  {
   "cell_type": "code",
   "execution_count": null,
   "id": "177a77fe",
   "metadata": {},
   "outputs": [],
   "source": [
    "df.NAICS.sort_values().unique()"
   ]
  },
  {
   "cell_type": "code",
   "execution_count": null,
   "id": "add7c09b",
   "metadata": {},
   "outputs": [],
   "source": [
    "#Continuing Approvals by NAICS code\n",
    "\n",
    "df[['NAICS','Continuing Approval']].groupby('NAICS').sum()\\\n",
    ".sort_values(by='NAICS', ascending=True)\n"
   ]
  },
  {
   "cell_type": "code",
   "execution_count": null,
   "id": "41d35488",
   "metadata": {},
   "outputs": [],
   "source": [
    "df = pd.merge(df, df_naics, how='left', left_on='NAICS', right_on='Sector', suffixes=(False, False))\n",
    "df"
   ]
  },
  {
   "cell_type": "code",
   "execution_count": null,
   "id": "1f203134",
   "metadata": {},
   "outputs": [],
   "source": [
    "df.info()"
   ]
  },
  {
   "cell_type": "code",
   "execution_count": null,
   "id": "bdf0e4dc",
   "metadata": {},
   "outputs": [],
   "source": [
    "df.isna().sum()"
   ]
  },
  {
   "cell_type": "code",
   "execution_count": null,
   "id": "4859ab1a",
   "metadata": {},
   "outputs": [],
   "source": [
    "df.columns"
   ]
  },
  {
   "cell_type": "code",
   "execution_count": null,
   "id": "ecd7cf0f",
   "metadata": {},
   "outputs": [],
   "source": [
    "df = pd.melt(df, id_vars=['Fiscal Year', 'Employer', 'NAICS', 'Tax ID', 'State', 'City', 'ZIP', 'Sector', 'Description'],\n",
    "       value_vars=['Initial Approval', 'Initial Denial', 'Continuing Approval', 'Continuing Denial', ],\n",
    "       var_name='Decision', value_name='Petitions')"
   ]
  },
  {
   "cell_type": "code",
   "execution_count": null,
   "id": "de24cb77",
   "metadata": {},
   "outputs": [],
   "source": [
    "df"
   ]
  },
  {
   "cell_type": "code",
   "execution_count": null,
   "id": "5bcfdf38",
   "metadata": {},
   "outputs": [],
   "source": [
    "#Export df to compressed .csv\n",
    "\n",
    "compression_opts = dict(method='zip', archive_name='h1b_hub.csv')  \n",
    "\n",
    "df.to_csv('h1b_hub.zip', index=False, compression=compression_opts)  "
   ]
  },
  {
   "cell_type": "code",
   "execution_count": null,
   "id": "4414566a",
   "metadata": {},
   "outputs": [],
   "source": []
  }
 ],
 "metadata": {
  "kernelspec": {
   "display_name": "Python 3 (ipykernel)",
   "language": "python",
   "name": "python3"
  },
  "language_info": {
   "codemirror_mode": {
    "name": "ipython",
    "version": 3
   },
   "file_extension": ".py",
   "mimetype": "text/x-python",
   "name": "python",
   "nbconvert_exporter": "python",
   "pygments_lexer": "ipython3",
   "version": "3.9.12"
  }
 },
 "nbformat": 4,
 "nbformat_minor": 5
}
